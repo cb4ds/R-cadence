{
 "cells": [
  {
   "cell_type": "code",
   "execution_count": null,
   "metadata": {
    "autoscroll": false,
    "collapsed": true
   },
   "outputs": [],
   "source": [
    "big.data.path <- Sys.getenv(\"ACADEMYR_BIG_DATA_PATH\")\n",
    "data.path <- \"../data\"\n",
    "output.path <- \"./output/xdf\"\n",
    "if(!file.exists(output.path)) dir.create(output.path, recursive = TRUE)\n",
    "sample.data.dir <- rxGetOption(\"sampleDataDir\")"
   ]
  },
  {
   "cell_type": "markdown",
   "metadata": {},
   "source": [
    "\n",
    "Let's compare the performance of HPA functions with their open-source R couterparts:\n",
    "  - `rxLinMod` vs `lm`\n",
    "  - `rxLogit` vs `glm`\n",
    "  - `rxGlm` vs `glm`\n",
    "  - `rxSummary` vs `dplyr`\n",
    "\n",
    "We will read the `airline.csv` data set and load it into R as a `data.frame` (since open-source R functions do not work on XDF files, we won't be using XDF for these tests).\n",
    "\n"
   ]
  },
  {
   "cell_type": "code",
   "execution_count": null,
   "metadata": {
    "autoscroll": false,
    "collapsed": true
   },
   "outputs": [],
   "source": [
    "airline.csv <- file.path(sample.data.dir, \"AirlineDemoSmall.csv\")\n",
    "\n",
    "colInfo <- list(\n",
    "  DayOfWeek = list(\n",
    "    type = \"factor\",\n",
    "    levels = c(\"Monday\", \"Tuesday\", \"Wednesday\",\n",
    "               \"Thursday\", \"Friday\", \"Saturday\", \"Sunday\"))\n",
    ")\n",
    "\n",
    "airline.df <- rxImport(inData = airline.csv, # no outFile means we get a data.frame\n",
    "                       colInfo = colInfo,\n",
    "                       missingValueString = \"M\")\n",
    "\n",
    "dim(airline.df)"
   ]
  },
  {
   "cell_type": "markdown",
   "metadata": {},
   "source": [
    "\n",
    "## `rxLinMod` vs `lm`\n",
    "\n"
   ]
  },
  {
   "cell_type": "code",
   "execution_count": null,
   "metadata": {
    "autoscroll": false,
    "collapsed": true
   },
   "outputs": [],
   "source": [
    "model <- lm(ArrDelay ~ DayOfWeek, data = airline.df)\n",
    "summary(model)\n",
    "\n",
    "model <- rxLinMod(ArrDelay ~ DayOfWeek, data = airline.df, dropFirst = TRUE)\n",
    "summary(model)"
   ]
  },
  {
   "cell_type": "code",
   "execution_count": null,
   "metadata": {
    "autoscroll": false,
    "collapsed": true
   },
   "outputs": [],
   "source": [
    "library(microbenchmark)\n",
    "print(microbenchmark(\n",
    "  lm(ArrDelay ~ DayOfWeek, data = airline.df),\n",
    "  rxLinMod(ArrDelay ~ DayOfWeek, data = airline.df, dropFirst = TRUE, reportProgress = 0),\n",
    "  times = 30\n",
    "))"
   ]
  },
  {
   "cell_type": "markdown",
   "metadata": {},
   "source": [
    "\n",
    "## `rxLogit` vs `glm`\n",
    "\n"
   ]
  },
  {
   "cell_type": "code",
   "execution_count": null,
   "metadata": {
    "autoscroll": false,
    "collapsed": true
   },
   "outputs": [],
   "source": [
    "parallel <- function() rxLogit(ArrDelay > 10 ~ DayOfWeek, data = airline.df, dropFirst = TRUE, reportProgress = 0)\n",
    "sequentl <- function() glm(ArrDelay > 10 ~ DayOfWeek, data = airline.df, family = binomial(link = 'logit'))\n",
    "\n",
    "print(microbenchmark(\n",
    "  parallel(),\n",
    "  sequentl(),\n",
    "  times = 10\n",
    "))"
   ]
  },
  {
   "cell_type": "markdown",
   "metadata": {},
   "source": [
    "\n",
    "## `rxSummary` vs `dplyr`\n",
    "\n"
   ]
  },
  {
   "cell_type": "code",
   "execution_count": null,
   "metadata": {
    "autoscroll": false,
    "collapsed": true
   },
   "outputs": [],
   "source": [
    "revo_sum <- function() rxSummary(ArrDelay ~ F(DayOfWeek), data = airline.df, reportProgress = 0)\n",
    "\n",
    "library(dplyr)\n",
    "\n",
    "dplyrsum <- function() {\n",
    "  airline.df %>%\n",
    "    group_by(DayOfWeek) %>%\n",
    "    summarise(\n",
    "      Means = mean(ArrDelay, na.rm = TRUE),\n",
    "      StdDev = sd(ArrDelay, na.rm = TRUE),\n",
    "      Min = min(ArrDelay, na.rm = TRUE),\n",
    "      Max = max(ArrDelay, na.rm = TRUE),\n",
    "      ValidObs = sum(!is.na(ArrDelay))\n",
    "    )\n",
    "}\n",
    "\n",
    "print(microbenchmark(\n",
    "  revo_sum(),\n",
    "  dplyrsum(),\n",
    "  times = 100\n",
    "))"
   ]
  },
  {
   "cell_type": "markdown",
   "metadata": {},
   "source": [
    "\n",
    "## `rxGlm` vs `glm` on small data set: `glm` wins\n",
    "\n"
   ]
  },
  {
   "cell_type": "code",
   "execution_count": null,
   "metadata": {
    "autoscroll": false,
    "collapsed": true
   },
   "outputs": [],
   "source": [
    "library(robust)\n",
    "data(breslow.dat, package = \"robust\")\n",
    "dim(breslow.dat)\n",
    "\n",
    "parallel <- function() rxGlm(sumY ~ Base + Age + Trt, dropFirst = TRUE, data = breslow.dat, family = poisson(), reportProgress = 0)\n",
    "sequentl <- function() glm(sumY ~ Base + Age + Trt, data = breslow.dat, family = poisson())\n",
    "\n",
    "# smaller data set means parallel algorithm is not necessarily faster\n",
    "print(microbenchmark(\n",
    "  parallel(),\n",
    "  sequentl(),\n",
    "  times = 10\n",
    "))"
   ]
  },
  {
   "cell_type": "markdown",
   "metadata": {},
   "source": [
    "\n",
    "## `rxGlm` vs `glm` on large data set: `rxGlm` wins\n",
    "\n"
   ]
  },
  {
   "cell_type": "code",
   "execution_count": null,
   "metadata": {
    "autoscroll": false,
    "collapsed": true
   },
   "outputs": [],
   "source": [
    "# we blow up the size of the data 3000 fold\n",
    "breslow.big <- do.call(rbind, lapply(1:3000, function(i) breslow.dat))\n",
    "dim(breslow.big)\n",
    "\n",
    "parallel <- function() rxGlm(sumY ~ Base + Age + Trt, dropFirst = TRUE, data = breslow.big, family = poisson(), reportProgress = 0)\n",
    "sequentl <- function() glm(sumY ~ Base + Age + Trt, data = breslow.big, family = poisson())\n",
    "\n",
    "# smaller data set means parallel algorithm is not necessarily faster\n",
    "print(microbenchmark(\n",
    "  parallel(),\n",
    "  sequentl(),\n",
    "  times = 10\n",
    "))\n",
    "\n",
    "rm(breslow.big)"
   ]
  },
  {
   "cell_type": "markdown",
   "metadata": {},
   "source": [
    "\n",
    "## comparing `RxLocalParallel` with `RxLocalSeq`\n",
    "\n"
   ]
  },
  {
   "cell_type": "code",
   "execution_count": null,
   "metadata": {
    "autoscroll": false,
    "collapsed": true
   },
   "outputs": [],
   "source": [
    "rxSetComputeContext(RxLocalParallel())\n",
    "rxOptions(numCoresToUse = 12)\n",
    "\n",
    "rxExec(sqrt, rxElemArg(1:4))\n",
    "# rxElemArg allows you to pass different arguments to each worker\n",
    "rxExec(sqrt, 1:4, timesToRun = 4)\n",
    "# timesToRun calculates the square roots of the entire sequence 1:4 four times"
   ]
  },
  {
   "cell_type": "code",
   "execution_count": null,
   "metadata": {
    "autoscroll": false,
    "collapsed": true
   },
   "outputs": [],
   "source": [
    "nsize <- 10^5\n",
    "system.time(rnorm(nsize))\n",
    "\n",
    "rxSetComputeContext(RxLocalSeq())\n",
    "system.time(rxExec(function(i) rnorm(nsize), rxElemArg(1:4)))\n",
    "\n",
    "rxSetComputeContext(RxLocalParallel())\n",
    "system.time(rxExec(function(i) rnorm(nsize), rxElemArg(1:4), execObjects = \"nsize\"))"
   ]
  },
  {
   "cell_type": "code",
   "execution_count": null,
   "metadata": {
    "autoscroll": false,
    "collapsed": true
   },
   "outputs": [],
   "source": [
    "compare.runtimes <- function(nsize, nproc) {\n",
    "  cat(sprintf(\"size = %s \\n\", formatC(nsize, format = \"d\", big.mark = \",\")))\n",
    "  st1 <- system.time(rnorm(nsize))\n",
    "\n",
    "  rxSetComputeContext(RxLocalSeq())\n",
    "  st2 <- system.time(rxExec(function(i) rnorm(nsize), rxElemArg(1:nproc)))\n",
    "\n",
    "  rxSetComputeContext(RxLocalParallel())\n",
    "  st3 <- system.time(rxExec(function(i) rnorm(nsize), rxElemArg(1:nproc), execObjects = c(\"nsize\", \"nproc\")))\n",
    "\n",
    "  dd <- do.call(rbind, list(st1, st2, st3))\n",
    "  dd <- as.data.frame(dd)\n",
    "  dd$test <- c('single test', 'four sequential', 'four parallel')\n",
    "  dd$factor <- dd$elapsed / lag(dd$elapsed)\n",
    "  dd[ , c('test', 'elapsed', 'factor')]\n",
    "}\n",
    "\n",
    "compare.runtimes(10^4, 16)\n",
    "compare.runtimes(10^5, 16)\n",
    "compare.runtimes(10^6, 16)\n",
    "compare.runtimes(10^7, 16)"
   ]
  },
  {
   "cell_type": "markdown",
   "metadata": {},
   "source": [
    "\n",
    "## The mandelbrot example:\n",
    "\n",
    "A complex number is in the mandelbrot set if the following loop converges: $z_{n+1} = z^2_n + c$ where $z_0 = 0$.\n",
    "\n"
   ]
  },
  {
   "cell_type": "code",
   "execution_count": null,
   "metadata": {
    "autoscroll": false,
    "collapsed": true
   },
   "outputs": [],
   "source": [
    "mandelbrot <- function(x0, y0, lim) {\n",
    "  x <- x0; y <- y0\n",
    "  iter <- 0\n",
    "  while (x^2 + y^2 < 4 && iter < lim) {\n",
    "    xtemp <- x^2 - y^2 + x0\n",
    "    y <- 2 * x * y + y0\n",
    "    x <- xtemp\n",
    "    iter <- iter + 1\n",
    "  }\n",
    "  iter\n",
    "}\n",
    "\n",
    "mandelbrot(0, 0, 50)\n",
    "mandelbrot(2, 5, 50)"
   ]
  },
  {
   "cell_type": "code",
   "execution_count": null,
   "metadata": {
    "autoscroll": false,
    "collapsed": true
   },
   "outputs": [],
   "source": [
    "vmandelbrot <- function(xvec, y0, lim) {\n",
    "  sapply(xvec, mandelbrot, y0 = y0, lim = lim)\n",
    "}\n",
    "\n",
    "vmandelbrot(0:10, 0, 50)"
   ]
  },
  {
   "cell_type": "code",
   "execution_count": null,
   "metadata": {
    "autoscroll": false,
    "collapsed": true
   },
   "outputs": [],
   "source": [
    "size <- 150\n",
    "x.in <- seq(-2.0, 0.6, length.out = size)\n",
    "y.in <- seq(-1.3, 1.3, length.out = size)\n",
    "m <- 100\n",
    "z <- rxExec(vmandelbrot, x.in, y0 = rxElemArg(y.in), m, execObjects = \"mandelbrot\")\n",
    "z <- matrix(unlist(z), ncol = size) # order the data for the image\n",
    "\n",
    "image(x.in, y.in, z, col = c(rainbow(m), '#000000'))"
   ]
  },
  {
   "cell_type": "markdown",
   "metadata": {},
   "source": [
    "\n",
    "## `foreach` vs `RevoScaleR`\n",
    "\n"
   ]
  },
  {
   "cell_type": "code",
   "execution_count": null,
   "metadata": {
    "autoscroll": false,
    "collapsed": true
   },
   "outputs": [],
   "source": [
    "library(foreach)\n",
    "foreach(i = 4:6) %do% sqrt(i) # sequentially\n",
    "foreach(i = 4:6) %dopar% sqrt(i) # parallel\n",
    "\n",
    "rxSetComputeContext(RxLocalSeq())\n",
    "rxExec(sqrt, elemArgs = 4:6) # sequentially\n",
    "\n",
    "rxSetComputeContext(RxLocalParallel())\n",
    "rxExec(sqrt, elemArgs = 4:6) # in parallel"
   ]
  },
  {
   "cell_type": "markdown",
   "metadata": {},
   "source": [
    "\n",
    "## a parallel backend for `kmeans`\n",
    "\n"
   ]
  },
  {
   "cell_type": "code",
   "execution_count": null,
   "metadata": {
    "autoscroll": false,
    "collapsed": true
   },
   "outputs": [],
   "source": [
    "# Create artificial data\n",
    "set.seed(1)\n",
    "X <- rbind(\n",
    "  matrix(rnorm(100, mean = 0, sd = 0.3), ncol = 2),\n",
    "  matrix(rnorm(100, mean = 1, sd = 0.3), ncol = 2)\n",
    ")\n",
    "colnames(X) <- c(\"x\", \"y\")\n",
    "plot(X)"
   ]
  },
  {
   "cell_type": "code",
   "execution_count": null,
   "metadata": {
    "autoscroll": false,
    "collapsed": true
   },
   "outputs": [],
   "source": [
    "kmeans(X, 5)"
   ]
  },
  {
   "cell_type": "code",
   "execution_count": null,
   "metadata": {
    "autoscroll": false,
    "collapsed": true
   },
   "outputs": [],
   "source": [
    "clusterPlot <- function(x, n = 4, nstart = 1){\n",
    "  cl <- kmeans(x, n, nstart = nstart)\n",
    "  plot(x, col = cl$cluster)\n",
    "  points(cl$centers, col = 1:n, pch = 8, cex = 2)\n",
    "}\n",
    "\n",
    "par(mfrow=c(1, 2))\n",
    "clusterPlot(X)\n",
    "clusterPlot(X)\n",
    "par(mfrow=c(1, 1))"
   ]
  },
  {
   "cell_type": "code",
   "execution_count": null,
   "metadata": {
    "autoscroll": false,
    "collapsed": true
   },
   "outputs": [],
   "source": [
    "clusterPlot(X, n = 5, nstart = 25)"
   ]
  },
  {
   "cell_type": "code",
   "execution_count": null,
   "metadata": {
    "autoscroll": false,
    "collapsed": true
   },
   "outputs": [],
   "source": [
    "rxSetComputeContext(RxLocalParallel())\n",
    "\n",
    "numTimes <- 8\n",
    "results <- rxExec(kmeans, X, centers = 5, iter.max = 35, nstart = 50, timesToRun = numTimes, elemType = \"cores\")\n",
    "\n",
    "(sumSSW <- vapply(results, function(x) sum(x$withinss), FUN.VALUE = numeric(1)))\n",
    "results[[which.min(sumSSW)]]"
   ]
  },
  {
   "cell_type": "code",
   "execution_count": null,
   "metadata": {
    "autoscroll": false,
    "collapsed": true
   },
   "outputs": [],
   "source": [
    "kMeansRSR <- function(x, centers = 5, iter.max = 10, nstart = 1, numTimes = 20) {\n",
    "  results <- rxExec(FUN = kmeans, x = x, centers = centers, iter.max = iter.max,\n",
    "                    nstart = nstart, elemType = \"cores\", timesToRun = numTimes)\n",
    "  sumSSW <- vapply(results, function(x) sum(x$withinss), FUN.VALUE = numeric(1))\n",
    "  results[[which.min(sumSSW)]]\n",
    "}\n",
    "\n",
    "# create 5000 x 50 matrix\n",
    "nrow <- 5000\n",
    "ncol <- 50\n",
    "Z <- matrix(rnorm(nrow*ncol), nrow, ncol)\n",
    "iter.max <- 50\n",
    "workers <- 8\n",
    "\n",
    "nstart <- 32\n",
    "(km1st <- system.time(km1 <- kmeans(Z, 10, iter.max, nstart)))\n",
    "(km8st <- system.time(kmrsr <- kMeansRSR(Z, 10, iter.max, nstart = nstart/(2*workers), numTimes = 2*workers)))"
   ]
  },
  {
   "cell_type": "markdown",
   "metadata": {},
   "source": [
    "\n",
    "## cross-validation with a parallel backend\n",
    "\n"
   ]
  },
  {
   "cell_type": "code",
   "execution_count": null,
   "metadata": {
    "autoscroll": false,
    "collapsed": true
   },
   "outputs": [],
   "source": [
    "airline.xdf <- file.path(output.path, \"airline.xdf\")\n",
    "\n",
    "colClasses <- c(ArrDelay = \"numeric\", CRSDepTime = \"numeric\", DayOfWeek = \"factor\")\n",
    "rxImport(airline.csv, airline.xdf, colClasses = colClasses, overwrite = TRUE, reportProgress = 0)\n",
    "\n",
    "airline.scored.xdf <- file.path(output.path, \"airline_scored.xdf\")\n",
    "\n",
    "k <- 10\n",
    "rxDataStep(inData = airline.xdf,\n",
    "           outFile = airline.xdf,\n",
    "           transforms = list(\n",
    "             kSplits = factor(sample(LETTERS[1:k], size = .rxNumRows, replace = TRUE))),\n",
    "           transformObjects = list(LETTERS = LETTERS, k = k),\n",
    "           append = \"rows\",\n",
    "           overwrite = FALSE, reportProgress = 0)\n",
    "\n",
    "# split the data by each fold\n",
    "kSplits <- rxSplit(inData = airline.xdf,\n",
    "                   outFilesBase = file.path(output.path, \"airline\"),\n",
    "                   splitByFactor = \"kSplits\", overwrite = TRUE, reportProgress = 0)\n",
    "\n",
    "# for each fold:\n",
    "# run `rxLinMod` on the other k-1 folds\n",
    "# predict on the k-th fold based on the model developed above\n",
    "\n",
    "myLinModWrapper <- function(\n",
    "  holdoutlevel, # letters A-Z, one for each fold\n",
    "  splitFiles, # a list of file names, one for each data split\n",
    "  outFile = NULL # an optional data path, to combine all the splits into a single file\n",
    ") {\n",
    "\n",
    "  # first, estimate the model on all data point but those including holdoutlevel\n",
    "  myMod <- rxLinMod(ArrDelay ~ DayOfWeek + F(CRSDepTime), data = airline.xdf,\n",
    "                    rowSelection = kSplits != holdout,\n",
    "                    transformObjects = list(holdout = holdoutlevel),\n",
    "                    reportProgress = 0)\n",
    "\n",
    "  # then, generate predictions\n",
    "  curHoldOut <- grep(paste(\"kSplits\", holdoutlevel, \"xdf\", sep = \".\"), names(splitFiles), value = TRUE)\n",
    "  rxPredict(myMod, data = splitFiles[[curHoldOut]], overwrite = TRUE, predVarNames = \"ArrDelay_kFold_Pred\", reportProgress = 0)\n",
    "\n",
    " return(holdoutlevel)\n",
    "}\n",
    "\n",
    "# we can run this sequentially using `lapply`\n",
    "system.time(lapply(LETTERS[1:k], myLinModWrapper, splitFiles = kSplits))\n",
    "\n",
    "# we can run it sequentially using `rxExec`\n",
    "rxSetComputeContext(RxLocalSeq())\n",
    "system.time(rxExec(myLinModWrapper, splitFiles = kSplits, elemArgs = as.list(LETTERS[1:k])))\n",
    "\n",
    "# we can run it in parallel using `rxExec`\n",
    "rxSetComputeContext(RxLocalParallel())\n",
    "system.time(rxExec(myLinModWrapper, splitFiles = kSplits, elemArgs = as.list(LETTERS[1:k]), execObjects = c('airline.xdf', 'airline.scored.xdf', 'output.path'), elemType = \"cores\"))"
   ]
  }
 ],
 "metadata": {
  "kernelspec": {
   "display_name": "R",
   "language": "R",
   "name": "ir"
  },
  "language_info": {
   "codemirror_mode": "r",
   "file_extension": ".r",
   "mimetype": "text/x-r-source",
   "name": "R",
   "pygments_lexer": "r"
  }
 },
 "nbformat": 4,
 "nbformat_minor": 0
}
